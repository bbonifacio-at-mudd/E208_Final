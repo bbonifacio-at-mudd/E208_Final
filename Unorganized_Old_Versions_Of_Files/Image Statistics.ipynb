{
 "cells": [
  {
   "cell_type": "code",
   "execution_count": 1,
   "id": "bbb3e344-4d0d-4517-a70b-4cbdadecf430",
   "metadata": {},
   "outputs": [
    {
     "name": "stdout",
     "output_type": "stream",
     "text": [
      "The number of algae images is 22776\n"
     ]
    }
   ],
   "source": [
    "import os\n",
    "\n",
    "# Use a raw string for the Windows file path\n",
    "path = r\"C:\\Users\\Brandon\\Desktop\\Classes\\E208\\Homework\\E208_Final\\Cropped_Data_50000\\Algae\"\n",
    "\n",
    "# Initialize file count\n",
    "algae_file_count = 0\n",
    "\n",
    "# Check if the path exists and is a directory\n",
    "if os.path.exists(path) and os.path.isdir(path):\n",
    "    _, _, files = next(os.walk(path))\n",
    "    file_count = len(files)\n",
    "\n",
    "print(f\"The number of algae images is {file_count}\")\n"
   ]
  },
  {
   "cell_type": "code",
   "execution_count": 2,
   "id": "88930a15-f8bc-4f66-ab88-dec40d33ee60",
   "metadata": {},
   "outputs": [
    {
     "name": "stdout",
     "output_type": "stream",
     "text": [
      "The number of hard coral images is 12353\n"
     ]
    }
   ],
   "source": [
    "import os\n",
    "\n",
    "# Use a raw string for the Windows file path\n",
    "path = r\"C:\\Users\\Brandon\\Desktop\\Classes\\E208\\Homework\\E208_Final\\Cropped_Data_50000\\Hard Coral\"\n",
    "\n",
    "# Initialize file count\n",
    "file_count = 0\n",
    "\n",
    "# Check if the path exists and is a directory\n",
    "if os.path.exists(path) and os.path.isdir(path):\n",
    "    _, _, files = next(os.walk(path))\n",
    "    file_count = len(files)\n",
    "\n",
    "print(f\"The number of hard coral images is {file_count}\")\n"
   ]
  },
  {
   "cell_type": "code",
   "execution_count": 3,
   "id": "fce10e82-304b-42db-9e8e-1fbd25fdd197",
   "metadata": {},
   "outputs": [
    {
     "name": "stdout",
     "output_type": "stream",
     "text": [
      "The number of soft coral images is 6821\n"
     ]
    }
   ],
   "source": [
    "import os\n",
    "\n",
    "# Use a raw string for the Windows file path\n",
    "path = r\"C:\\Users\\Brandon\\Desktop\\Classes\\E208\\Homework\\E208_Final\\Cropped_Data_50000\\Soft Coral\"\n",
    "\n",
    "# Initialize file count\n",
    "file_count = 0\n",
    "\n",
    "# Check if the path exists and is a directory\n",
    "if os.path.exists(path) and os.path.isdir(path):\n",
    "    _, _, files = next(os.walk(path))\n",
    "    file_count = len(files)\n",
    "\n",
    "print(f\"The number of soft coral images is {file_count}\")\n"
   ]
  },
  {
   "cell_type": "code",
   "execution_count": 45,
   "id": "df5f0e13-81eb-4ab7-8d77-022303f3b1b5",
   "metadata": {},
   "outputs": [
    {
     "name": "stdout",
     "output_type": "stream",
     "text": [
      "The number of other images is 2128\n"
     ]
    }
   ],
   "source": [
    "import os\n",
    "\n",
    "# Use a raw string for the Windows file path\n",
    "path = r\"C:\\Users\\Brandon\\Desktop\\Classes\\E208\\Homework\\E208_Final\\Cropped_Data_50000\\Other\"\n",
    "\n",
    "# Initialize file count\n",
    "file_count = 0\n",
    "\n",
    "# Check if the path exists and is a directory\n",
    "if os.path.exists(path) and os.path.isdir(path):\n",
    "    _, _, files = next(os.walk(path))\n",
    "    file_count = len(files)\n",
    "\n",
    "print(f\"The number of other images is {file_count}\")\n"
   ]
  },
  {
   "cell_type": "code",
   "execution_count": 46,
   "id": "f9428b80-f945-4a8a-97be-e06b8aea1b6b",
   "metadata": {},
   "outputs": [
    {
     "name": "stdout",
     "output_type": "stream",
     "text": [
      "The number of other invertrebrates images is 858\n"
     ]
    }
   ],
   "source": [
    "import os\n",
    "\n",
    "# Use a raw string for the Windows file path\n",
    "path = r\"C:\\Users\\Brandon\\Desktop\\Classes\\E208\\Homework\\E208_Final\\Cropped_Data_50000\\Other Invertebrates\"\n",
    "\n",
    "# Initialize file count\n",
    "file_count = 0\n",
    "\n",
    "# Check if the path exists and is a directory\n",
    "if os.path.exists(path) and os.path.isdir(path):\n",
    "    _, _, files = next(os.walk(path))\n",
    "    file_count = len(files)\n",
    "\n",
    "print(f\"The number of other invertrebrates images is {file_count}\")\n"
   ]
  },
  {
   "cell_type": "code",
   "execution_count": null,
   "id": "8bb23c99-f9f9-4470-b1d4-7144f6af4485",
   "metadata": {},
   "outputs": [],
   "source": []
  },
  {
   "cell_type": "code",
   "execution_count": null,
   "id": "9a8e1764-27f8-4838-a894-b26dcc313f83",
   "metadata": {},
   "outputs": [],
   "source": []
  }
 ],
 "metadata": {
  "kernelspec": {
   "display_name": "Python 3 (ipykernel)",
   "language": "python",
   "name": "python3"
  },
  "language_info": {
   "codemirror_mode": {
    "name": "ipython",
    "version": 3
   },
   "file_extension": ".py",
   "mimetype": "text/x-python",
   "name": "python",
   "nbconvert_exporter": "python",
   "pygments_lexer": "ipython3",
   "version": "3.9.13"
  }
 },
 "nbformat": 4,
 "nbformat_minor": 5
}
